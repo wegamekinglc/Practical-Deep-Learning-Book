{
 "cells": [
  {
   "cell_type": "markdown",
   "metadata": {},
   "source": [
    "# AutoKeras\n",
    "\n",
    "**This code worked with the AutoKeras version in Nov 2019 and has since been depreciated. Please refer to the June 2020 version [code/chapter-5/5-autokeras.ipynb](https://github.com/PracticalDL/Practical-Deep-Learning-Book/blob/master/code/chapter-5/5-autokeras.ipynb)** \n",
    "\n",
    "As AI is automating more and more jobs, it can finally automate designing AI architectures too. Neural Architecture Search (NAS) approaches utilize reinforcement learning to join together mini architectural blocks, till they are able to maximize the objective function - i.e. our validation accuracy. The current state of the art networks are all based on NAS, leaving human-designed architectures in the dust. Research in this area started showing promising results in 2017, with a bigger focus on making train faster in 2018. \n",
    "\n",
    "AutoKeras (Haifeng Jin et al), also apply this state of the art technique on our particular datasets in a relatively accessible manner. Generating new model architectures with AutoKeras is a matter of supplying our images and associated labels, and a time limit to finish running the jobs by. Internally, it implements several optimization algorithms including a Bayesian optimization approach to search for an optimal architecture. \n"
   ]
  },
  {
   "cell_type": "code",
   "execution_count": null,
   "metadata": {
    "colab": {
     "base_uri": "https://localhost:8080/",
     "height": 1000
    },
    "colab_type": "code",
    "id": "ICAIOyO4IuFi",
    "outputId": "a4449b50-7c8e-4246-c07a-7580506d6728"
   },
   "outputs": [],
   "source": [
    "# Make sure you have the necessary packages installed\n",
    "!pip3 install autokeras\n",
    "!pip3 install graphviz"
   ]
  },
  {
   "cell_type": "code",
   "execution_count": null,
   "metadata": {
    "colab": {
     "base_uri": "https://localhost:8080/",
     "height": 52
    },
    "colab_type": "code",
    "id": "nyKhle0zI16A",
    "outputId": "dfa92b1d-8f0e-4a4d-f10f-f0ee9e279e02"
   },
   "outputs": [],
   "source": [
    "from keras.datasets import mnist\n",
    "from autokeras.image.image_supervised import ImageClassifier"
   ]
  },
  {
   "cell_type": "code",
   "execution_count": null,
   "metadata": {
    "colab": {
     "base_uri": "https://localhost:8080/",
     "height": 503
    },
    "colab_type": "code",
    "id": "IjaF0gJuKBsu",
    "outputId": "edba3fba-96a6-4375-cdbb-88ac1d4e820d"
   },
   "outputs": [],
   "source": [
    "# Load data\n",
    "(x_train, y_train), (x_test, y_test) = mnist.load_data()\n",
    "\n",
    "x_train = x_train.reshape(x_train.shape + (1, ))\n",
    "x_test = x_test.reshape(x_test.shape + (1, ))"
   ]
  },
  {
   "cell_type": "markdown",
   "metadata": {},
   "source": [
    "Define an image classifier that performs augmentations"
   ]
  },
  {
   "cell_type": "code",
   "execution_count": null,
   "metadata": {},
   "outputs": [],
   "source": [
    "clf = ImageClassifier(path=\".\",verbose=True, augment=True, \\\n",
    "                     searcher_args={'trainer_args':{'max_iter_num':7}}\n",
    "                                    )"
   ]
  },
  {
   "cell_type": "markdown",
   "metadata": {},
   "source": [
    "Fit the classifier within a time limit of 60 seconds * 60 minutes * 1 hour "
   ]
  },
  {
   "cell_type": "code",
   "execution_count": null,
   "metadata": {},
   "outputs": [],
   "source": [
    "clf.fit(x_train, y_train, time_limit=60 * 60 * 1)\n",
    "clf.final_fit(x_train, y_train, x_test, y_test, retrain=True)"
   ]
  },
  {
   "cell_type": "code",
   "execution_count": null,
   "metadata": {},
   "outputs": [],
   "source": [
    "y = clf.evaluate(x_test, y_test)"
   ]
  },
  {
   "cell_type": "code",
   "execution_count": null,
   "metadata": {},
   "outputs": [],
   "source": [
    "print(y)"
   ]
  },
  {
   "cell_type": "markdown",
   "metadata": {},
   "source": [
    "This is what the complete output looks like: \n",
    "\n",
    "```\n",
    "Saving Directory: .\n",
    "Preprocessing the images.\n",
    "Preprocessing finished.\n",
    "\n",
    "Initializing search.\n",
    "Initialization finished.\n",
    "\n",
    "\n",
    "+----------------------------------------------+\n",
    "|               Training model 0               |\n",
    "+----------------------------------------------+\n",
    "                                                               \n",
    "Saving model.\n",
    "+--------------------------------------------------------------------------+\n",
    "|        Model ID        |          Loss          |      Metric Value      |\n",
    "+--------------------------------------------------------------------------+\n",
    "|           0            |   1.6381531059741974   |   0.8960000000000001   |\n",
    "+--------------------------------------------------------------------------+\n",
    "\n",
    "\n",
    "+----------------------------------------------+\n",
    "|               Training model 1               |\n",
    "+----------------------------------------------+\n",
    "Epoch-1, Current Metric - 0:  43%|████████████                | 200/465 [33:54<46:26, 10.52s/ batch]Time is out.\n",
    "                                                                  \n",
    "No loss decrease after 30 epochs.\n",
    "\n",
    "0.9852\n",
    "```\n",
    "\n",
    "Note that early stopping is present as well."
   ]
  },
  {
   "cell_type": "code",
   "execution_count": null,
   "metadata": {
    "colab": {},
    "colab_type": "code",
    "id": "5Mc0gYppKY78"
   },
   "outputs": [],
   "source": [
    "clf.export_autokeras_model(\"model.pkl\")"
   ]
  },
  {
   "cell_type": "markdown",
   "metadata": {},
   "source": [
    "Let's visualize the trained model."
   ]
  },
  {
   "cell_type": "code",
   "execution_count": null,
   "metadata": {
    "colab": {
     "base_uri": "https://localhost:8080/",
     "height": 167
    },
    "colab_type": "code",
    "id": "TzsHJ4VnKfmm",
    "outputId": "663ba600-daaf-450e-f223-4b5b11349b73"
   },
   "outputs": [],
   "source": [
    "visualize('.')"
   ]
  },
  {
   "cell_type": "markdown",
   "metadata": {},
   "source": [
    "One can also use `scikit-learn` to verify accuracy as follows:"
   ]
  },
  {
   "cell_type": "code",
   "execution_count": null,
   "metadata": {
    "colab": {
     "base_uri": "https://localhost:8080/",
     "height": 34
    },
    "colab_type": "code",
    "id": "OLTBfH0jKhSp",
    "outputId": "556943da-0b46-4038-afb4-28dd923cdeb2"
   },
   "outputs": [],
   "source": [
    "from sklearn.metrics import accuracy_score\n",
    "y = clf.predict(x_test)\n",
    "accuracy_score(y_true=y_test, y_pred=y)"
   ]
  }
 ],
 "metadata": {
  "colab": {
   "collapsed_sections": [],
   "name": "autokeras",
   "provenance": []
  },
  "kernelspec": {
   "display_name": "Python 3",
   "language": "python",
   "name": "python3"
  },
  "language_info": {
   "codemirror_mode": {
    "name": "ipython",
    "version": 3
   },
   "file_extension": ".py",
   "mimetype": "text/x-python",
   "name": "python",
   "nbconvert_exporter": "python",
   "pygments_lexer": "ipython3",
   "version": "3.6.9"
  },
  "toc": {
   "base_numbering": 1,
   "nav_menu": {},
   "number_sections": true,
   "sideBar": true,
   "skip_h1_title": false,
   "title_cell": "Table of Contents",
   "title_sidebar": "Contents",
   "toc_cell": false,
   "toc_position": {},
   "toc_section_display": true,
   "toc_window_display": false
  }
 },
 "nbformat": 4,
 "nbformat_minor": 1
}
