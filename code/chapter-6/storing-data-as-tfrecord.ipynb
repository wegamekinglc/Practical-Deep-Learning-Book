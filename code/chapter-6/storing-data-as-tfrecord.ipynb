{
 "cells": [
  {
   "cell_type": "markdown",
   "metadata": {
    "colab_type": "text",
    "id": "s6OY0sfI8_fy"
   },
   "source": [
    "<table class=\"tfo-notebook-buttons\" align=\"center\">\n",
    "  <td>\n",
    "    <a target=\"_blank\" href=\"https://colab.research.google.com/github/practicaldl/Practical-Deep-Learning-Book/blob/master/code/chapter-6/storing-data-as-tfrecord.ipynb\"><img src=\"https://www.tensorflow.org/images/colab_logo_32px.png\" />Run in Google Colab</a>\n",
    "  </td>\n",
    "  <td>\n",
    "    <a target=\"_blank\" href=\"https://github.com/practicaldl/Practical-Deep-Learning-Book/blob/master/code/chapter-6/storing-data-as-tfrecord.ipynb\"><img src=\"https://www.tensorflow.org/images/GitHub-Mark-32px.png\" />View source on GitHub</a>\n",
    "  </td>\n",
    "</table>\n",
    "\n",
    "This code is part of [Chapter 6 - What’s in thMaximizing Speed and Performance of TensorFlow: A Handy Checklist](https://learning.oreilly.com/library/view/practical-deep-learning/9781492034858/ch06.html)."
   ]
  },
  {
   "cell_type": "markdown",
   "metadata": {
    "colab_type": "text",
    "id": "EFt2Qn2-43Sz"
   },
   "source": [
    "# Data Preparation\n",
    "\n",
    "Image datasets typically consist of thousands of tiny files, each file measuring a few kilobytes. And our training pipeline must read each file individually. Doing this thousands of times has significant overhead, causing a slowdown of the training process. That problem is even more severe in the case of spinning hard drives, for which the magnetic head needs to seek to the beginning of each file. This problem is further exacerbated when the files are stored on a remote storage service like the cloud.\n",
    "\n",
    "## Storing data as TFRecords\n",
    "\n",
    "One solution is to store the data using TFRecord. It combines thousands of files into a handful of larger files. and stores data in an efficient Protocol Buffer (protobuf) objects, making them quicker to read. Let’s see how to create TFRecord files in TensorFlow 2.0:\n",
    "\n",
    "Note: If you are using an older version of TensorFlow you will need to enable `eager execution` by uncommenting `tf.enable_eager_execution()` and restarting the kernel."
   ]
  },
  {
   "cell_type": "code",
   "execution_count": null,
   "metadata": {
    "colab": {
     "base_uri": "https://localhost:8080/",
     "height": 36
    },
    "colab_type": "code",
    "id": "9ASMg-CC5QzG",
    "outputId": "3f73bbdc-44de-45ea-9e0e-3b38a8d3d308",
    "scrolled": true
   },
   "outputs": [],
   "source": [
    "import tensorflow as tf\n",
    "# If you are using Jupyter notebook on a version prior to TensorFlow 2.0, uncomment the following line and restart the Kernel.\n",
    "tf.enable_eager_execution()\n",
    "from PIL import Image\n",
    "import numpy as np\n",
    "import io\n",
    "import IPython.display as display\n",
    "\n",
    "try:\n",
    "    import google.colab\n",
    "    IS_COLAB_ENV = True\n",
    "except:\n",
    "    IS_COLAB_ENV = False\n",
    "IS_COLAB_ENV"
   ]
  },
  {
   "cell_type": "markdown",
   "metadata": {
    "colab_type": "text",
    "id": "XCltjNY4ry71"
   },
   "source": [
    "Let's download an example image:"
   ]
  },
  {
   "cell_type": "code",
   "execution_count": null,
   "metadata": {
    "colab": {
     "base_uri": "https://localhost:8080/",
     "height": 73
    },
    "colab_type": "code",
    "id": "B_v0PWniz8Ue",
    "outputId": "5e198780-503c-484c-820b-dac1aed171e0"
   },
   "outputs": [],
   "source": [
    "if IS_COLAB_ENV:\n",
    "    !curl https://raw.githubusercontent.com/PracticalDL/Practical-Deep-Learning-Book/master/sample-images/cat.jpg --output cat.jpg\n",
    "    image_path = \"cat.jpg\"\n",
    "else:\n",
    "    image_path = \"../../sample-images/cat.jpg\""
   ]
  },
  {
   "cell_type": "markdown",
   "metadata": {
    "colab_type": "text",
    "id": "-lSfZuUp56l1"
   },
   "source": [
    "Let's see what the image looks like."
   ]
  },
  {
   "cell_type": "code",
   "execution_count": null,
   "metadata": {
    "colab": {
     "base_uri": "https://localhost:8080/",
     "height": 1000
    },
    "colab_type": "code",
    "id": "bTVGe4M9zpdO",
    "outputId": "d7348e4b-1d0d-4c35-a4d1-4e14c0ab558c"
   },
   "outputs": [],
   "source": [
    "display.display(display.Image(data=image_path))"
   ]
  },
  {
   "cell_type": "markdown",
   "metadata": {
    "colab_type": "text",
    "id": "IDfUgseU7jpg"
   },
   "source": [
    "Now, to convert the image into `TFRecord` format:"
   ]
  },
  {
   "cell_type": "code",
   "execution_count": null,
   "metadata": {
    "colab": {},
    "colab_type": "code",
    "id": "KkiWjIyLzpal"
   },
   "outputs": [],
   "source": [
    "img_name_to_labels = {image_path: 0}\n",
    "img_in_string = open(image_path, 'rb').read()\n",
    "label_for_img = img_name_to_labels[image_path]"
   ]
  },
  {
   "cell_type": "code",
   "execution_count": null,
   "metadata": {},
   "outputs": [],
   "source": [
    "print(img_name_to_labels)"
   ]
  },
  {
   "cell_type": "code",
   "execution_count": null,
   "metadata": {
    "colab": {},
    "colab_type": "code",
    "id": "-a8c49tW7n3T"
   },
   "outputs": [],
   "source": [
    "# Credit: Vishwanath Subramanian: https://github.com/PracticalDL/Practical-Deep-Learning-Book/issues/95\n",
    "\n",
    "\n",
    "def _int64_feature(value):\n",
    "    return tf.train.Feature(int64_list=tf.train.Int64List(value=[value]))\n",
    "\n",
    "\n",
    "def _bytes_feature(value):\n",
    "    return tf.train.Feature(bytes_list=tf.train.BytesList(value=[value]))"
   ]
  },
  {
   "cell_type": "code",
   "execution_count": null,
   "metadata": {
    "colab": {},
    "colab_type": "code",
    "id": "cb9wyR8-zpX7"
   },
   "outputs": [],
   "source": [
    "def get_tfrecord(img, label):\n",
    "    feature = {\n",
    "        'label': _int64_feature(label),\n",
    "        'image_raw': _bytes_feature(img),\n",
    "    }\n",
    "    return tf.train.Example(features=tf.train.Features(feature=feature))"
   ]
  },
  {
   "cell_type": "markdown",
   "metadata": {
    "colab_type": "text",
    "id": "3xf20i0b72aO"
   },
   "source": [
    "Write the serialized `TFRecord` file to disk:"
   ]
  },
  {
   "cell_type": "code",
   "execution_count": null,
   "metadata": {
    "colab": {},
    "colab_type": "code",
    "id": "wHG2VuLlzpVF"
   },
   "outputs": [],
   "source": [
    "with tf.compat.v1.python_io.TFRecordWriter('img.tfrecord') as writer:\n",
    "    for filename, label in img_name_to_labels.items():\n",
    "        print(filename)\n",
    "        image_string = open(filename, 'rb').read()\n",
    "        tf_example = get_tfrecord(image_string, label)\n",
    "        writer.write(tf_example.SerializeToString())"
   ]
  },
  {
   "cell_type": "markdown",
   "metadata": {
    "colab_type": "text",
    "id": "ZVTqTe2p752P"
   },
   "source": [
    "Reading the `TFRecord` file:"
   ]
  },
  {
   "cell_type": "code",
   "execution_count": null,
   "metadata": {
    "colab": {},
    "colab_type": "code",
    "id": "FvguRYoAzpP7"
   },
   "outputs": [],
   "source": [
    "dataset = tf.data.TFRecordDataset('img.tfrecord')\n",
    "ground_truth_info = {\n",
    "    'label': tf.compat.v1.FixedLenFeature([], tf.int64),\n",
    "    'image_raw': tf.compat.v1.FixedLenFeature([], tf.string),\n",
    "}"
   ]
  },
  {
   "cell_type": "code",
   "execution_count": null,
   "metadata": {
    "colab": {},
    "colab_type": "code",
    "id": "Z6Ul_Ow0zpNg"
   },
   "outputs": [],
   "source": [
    "def map_operation(read_data):\n",
    "    return tf.compat.v1.parse_single_example(read_data, ground_truth_info)"
   ]
  },
  {
   "cell_type": "code",
   "execution_count": null,
   "metadata": {
    "colab": {},
    "colab_type": "code",
    "id": "pOpMfZ6izpKz"
   },
   "outputs": [],
   "source": [
    "images = dataset.map(map_operation)"
   ]
  },
  {
   "cell_type": "markdown",
   "metadata": {
    "colab_type": "text",
    "id": "nxGj0P_f8GgJ"
   },
   "source": [
    "Display the read file:"
   ]
  },
  {
   "cell_type": "code",
   "execution_count": null,
   "metadata": {
    "colab": {
     "base_uri": "https://localhost:8080/",
     "height": 1000
    },
    "colab_type": "code",
    "id": "DcLaJoN5zpIK",
    "outputId": "e9e7c2e1-cf3c-492f-e451-396b5ec38b48",
    "scrolled": false
   },
   "outputs": [],
   "source": [
    "for image in images:\n",
    "    image_raw = image['image_raw'].numpy()\n",
    "    label = image['label'].numpy()\n",
    "    display.display(display.Image(data=image_raw))"
   ]
  },
  {
   "cell_type": "markdown",
   "metadata": {
    "colab_type": "text",
    "id": "2b1rbmpK8KcS"
   },
   "source": [
    "Now you may be thinking, why not join all of the data in a single file, like say for ImageNet? \n",
    "\n",
    "- Although reading thousands of tiny files harms performance due to the overhead involved, reading gigantic files is an equally bad idea. They reduce our ability to make parallel reads and parallel network calls. \n",
    "- The sweet spot to shard (divide) a large dataset in `TFRecord` files lies at around 100 MB.\n",
    "\n",
    "Another good strategy to save compute cycles is to perform common preprocessing steps once on the entire dataset (like resizing) and then saving the results in `TFRecord` files for all future runs.\n",
    "\n",
    "[Read on](https://learning.oreilly.com/library/view/practical-deep-learning/9781492034858/ch06.html) for more strategies.\n"
   ]
  }
 ],
 "metadata": {
  "colab": {
   "collapsed_sections": [],
   "name": "storing-data-as-tfrecord.ipynb",
   "provenance": []
  },
  "kernelspec": {
   "display_name": "Python 3",
   "language": "python",
   "name": "python3"
  },
  "language_info": {
   "codemirror_mode": {
    "name": "ipython",
    "version": 3
   },
   "file_extension": ".py",
   "mimetype": "text/x-python",
   "name": "python",
   "nbconvert_exporter": "python",
   "pygments_lexer": "ipython3",
   "version": "3.6.9"
  },
  "toc": {
   "base_numbering": 1,
   "nav_menu": {},
   "number_sections": true,
   "sideBar": true,
   "skip_h1_title": false,
   "title_cell": "Table of Contents",
   "title_sidebar": "Contents",
   "toc_cell": false,
   "toc_position": {},
   "toc_section_display": true,
   "toc_window_display": false
  }
 },
 "nbformat": 4,
 "nbformat_minor": 1
}
